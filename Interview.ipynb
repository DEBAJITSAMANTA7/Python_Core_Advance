{
 "cells": [
  {
   "cell_type": "code",
   "execution_count": 12,
   "id": "469e48e2",
   "metadata": {},
   "outputs": [
    {
     "name": "stdout",
     "output_type": "stream",
     "text": [
      "Hello\n"
     ]
    }
   ],
   "source": [
    "print(\"Hello\")"
   ]
  },
  {
   "cell_type": "code",
   "execution_count": 17,
   "id": "109f5a6e",
   "metadata": {},
   "outputs": [
    {
     "name": "stdout",
     "output_type": "stream",
     "text": [
      "[69, 5, 4, 3]\n"
     ]
    }
   ],
   "source": [
    "# list-like array use 3rd bracket -Mutable or Duplicate values are their []\n",
    "list_1=[1,2,3,4,5]\n",
    "\n",
    "# list_1.append(20)\n",
    "list_1.insert(2,69)\n",
    "\n",
    "list_1.remove(2)\n",
    "list_1.sort()\n",
    "list_1.reverse()\n",
    "list_1.pop()\n",
    "list_1.count(5)\n",
    "\n",
    "\n",
    "print(list_1)"
   ]
  },
  {
   "cell_type": "code",
   "execution_count": 21,
   "id": "e928bbc2",
   "metadata": {},
   "outputs": [
    {
     "name": "stdout",
     "output_type": "stream",
     "text": [
      " dlroW olle\n"
     ]
    }
   ],
   "source": [
    "# sliceing the string \n",
    "str12=\"Hello World \"\n",
    "print(str12[0::+2])\n",
    "print(str12[len(str12):0:-1])"
   ]
  },
  {
   "cell_type": "code",
   "execution_count": 35,
   "id": "6c2bb24d",
   "metadata": {},
   "outputs": [
    {
     "name": "stdout",
     "output_type": "stream",
     "text": [
      "(10, 20, 10) <class 'tuple'>\n"
     ]
    }
   ],
   "source": [
    "# Touple -unique ()\n",
    "x=(10,20,10)\n",
    "# x.insert(1,30)\n",
    "print(x,type(x))\n",
    "abc=(int(input().split(\",\")))\n",
    "\n"
   ]
  },
  {
   "cell_type": "code",
   "execution_count": null,
   "id": "dd906155",
   "metadata": {},
   "outputs": [],
   "source": [
    "# function\n",
    "\n",
    "def nato(x):\n",
    "    print(x)\n",
    "\n",
    "x=10\n",
    "nato(10)"
   ]
  },
  {
   "cell_type": "code",
   "execution_count": null,
   "id": "35d7c737",
   "metadata": {},
   "outputs": [
    {
     "name": "stdout",
     "output_type": "stream",
     "text": [
      "{1, 2, 3, 4}\n"
     ]
    }
   ],
   "source": [
    "# no mutation -{}\n",
    "set={1,2,3,4,1,2,3,4}\n",
    "print(set)"
   ]
  },
  {
   "cell_type": "code",
   "execution_count": 34,
   "id": "ea9ddd2e",
   "metadata": {},
   "outputs": [
    {
     "name": "stdout",
     "output_type": "stream",
     "text": [
      "{'A': 'Apple', 'B': 'Ball'} Apple\n"
     ]
    }
   ],
   "source": [
    "# dictionary =kry value pair {key:value}\n",
    "dic={\"A\":\"Apple\",\"B\": \"Ball\"}\n",
    "print(dic,dic[\"A\"])"
   ]
  }
 ],
 "metadata": {
  "kernelspec": {
   "display_name": "Python 3 (ipykernel)",
   "language": "python",
   "name": "python3"
  },
  "language_info": {
   "codemirror_mode": {
    "name": "ipython",
    "version": 3
   },
   "file_extension": ".py",
   "mimetype": "text/x-python",
   "name": "python",
   "nbconvert_exporter": "python",
   "pygments_lexer": "ipython3",
   "version": "3.11.3"
  }
 },
 "nbformat": 4,
 "nbformat_minor": 5
}
